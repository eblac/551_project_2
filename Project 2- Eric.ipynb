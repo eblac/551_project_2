{
 "cells": [
  {
   "cell_type": "markdown",
   "metadata": {},
   "source": [
    "TODO: \n",
    "Clean Strings\n",
    "...\n"
   ]
  },
  {
   "cell_type": "code",
   "execution_count": 1,
   "metadata": {
    "collapsed": false
   },
   "outputs": [
    {
     "name": "stdout",
     "output_type": "stream",
     "text": [
      "sys.version_info(major=3, minor=5, micro=2, releaselevel='final', serial=0)\n"
     ]
    }
   ],
   "source": [
    "import sys\n",
    "%matplotlib inline\n",
    "import matplotlib.pyplot as plt\n",
    "import numpy as np\n",
    "import pandas as pd \n",
    "import nltk\n",
    "from nltk.corpus import stopwords\n",
    "from collections import Counter\n",
    "from nltk import word_tokenize\n",
    "import time, random, re, pprint\n",
    "pd.set_option('display.max_columns', None)\n",
    "print(sys.version_info)"
   ]
  },
  {
   "cell_type": "markdown",
   "metadata": {},
   "source": [
    "## Reading Data and Cleaning"
   ]
  },
  {
   "cell_type": "code",
   "execution_count": 2,
   "metadata": {
    "collapsed": false
   },
   "outputs": [
    {
     "name": "stdout",
     "output_type": "stream",
     "text": [
      "1.5503840446472168\n"
     ]
    }
   ],
   "source": [
    "start = time.time()\n",
    "train_input = pd.read_csv('train_input.csv')\n",
    "train_output = pd.read_csv('train_output.csv')\n",
    "print(time.time() - start)"
   ]
  },
  {
   "cell_type": "code",
   "execution_count": 3,
   "metadata": {
    "collapsed": false
   },
   "outputs": [
    {
     "name": "stdout",
     "output_type": "stream",
     "text": [
      "(165000, 2)\n"
     ]
    },
    {
     "data": {
      "text/html": [
       "<div>\n",
       "<table border=\"1\" class=\"dataframe\">\n",
       "  <thead>\n",
       "    <tr style=\"text-align: right;\">\n",
       "      <th></th>\n",
       "      <th>id</th>\n",
       "      <th>conversation</th>\n",
       "    </tr>\n",
       "  </thead>\n",
       "  <tbody>\n",
       "    <tr>\n",
       "      <th>0</th>\n",
       "      <td>0</td>\n",
       "      <td>&lt;speaker_1&gt; seaworld ceo steps down amid tanki...</td>\n",
       "    </tr>\n",
       "    <tr>\n",
       "      <th>1</th>\n",
       "      <td>1</td>\n",
       "      <td>&lt;speaker_1&gt; strickland chargers owner dean spa...</td>\n",
       "    </tr>\n",
       "    <tr>\n",
       "      <th>2</th>\n",
       "      <td>2</td>\n",
       "      <td>&lt;speaker_1&gt; iniesta plays keepy uppy with one ...</td>\n",
       "    </tr>\n",
       "    <tr>\n",
       "      <th>3</th>\n",
       "      <td>3</td>\n",
       "      <td>&lt;speaker_1&gt; chappie trailer #1 &lt;number&gt; hugh j...</td>\n",
       "    </tr>\n",
       "    <tr>\n",
       "      <th>4</th>\n",
       "      <td>4</td>\n",
       "      <td>&lt;speaker_1&gt; why the church of satan may get to...</td>\n",
       "    </tr>\n",
       "  </tbody>\n",
       "</table>\n",
       "</div>"
      ],
      "text/plain": [
       "   id                                       conversation\n",
       "0   0  <speaker_1> seaworld ceo steps down amid tanki...\n",
       "1   1  <speaker_1> strickland chargers owner dean spa...\n",
       "2   2  <speaker_1> iniesta plays keepy uppy with one ...\n",
       "3   3  <speaker_1> chappie trailer #1 <number> hugh j...\n",
       "4   4  <speaker_1> why the church of satan may get to..."
      ]
     },
     "execution_count": 3,
     "metadata": {},
     "output_type": "execute_result"
    }
   ],
   "source": [
    "print(train_input.shape)\n",
    "train_input.head()"
   ]
  },
  {
   "cell_type": "code",
   "execution_count": 4,
   "metadata": {
    "collapsed": false
   },
   "outputs": [],
   "source": [
    "delchars = ''.join(c for c in map(chr, range(256)) if not c.isalpha())\n",
    "delchars = ''.join(ch for ch in delchars if ch !=' ')\n",
    "\n",
    "def clean_text(paragraph):\n",
    "    output = re.sub('\\<.*?\\>','', paragraph) #delete tags (between <..>)\n",
    "    output = re.sub('\\@.*?\\s','', output) #delete usernames (words following @)\n",
    "    output = re.sub('\\n','', output) #delete anything following a slash\n",
    "    output = output.translate(str.maketrans('','',delchars))\n",
    "    return output\n",
    "\n",
    "def rem_stopwords(word_list): \n",
    "    return list(set(word_list) - set(stopwords.words('English')))\n",
    "\n",
    "count_stops = Counter(stopwords.words(\"English\")*100)\n",
    "\n",
    "def rem_stopwords_count(words_list):\n",
    "    return Counter(words_list) - count_stops"
   ]
  },
  {
   "cell_type": "code",
   "execution_count": 5,
   "metadata": {
    "collapsed": false
   },
   "outputs": [
    {
     "name": "stdout",
     "output_type": "stream",
     "text": [
      "24.713356018066406\n"
     ]
    }
   ],
   "source": [
    "start = time.time()\n",
    "text_vector = train_input[\"conversation\"].apply(lambda x: clean_text(x))\n",
    "train_input[\"text\"] = text_vector\n",
    "train_input[\"words\"] = train_input[\"text\"].apply(lambda x: x.split()) \n",
    "train_input[\"words_count\"] = train_input[\"words\"].apply(lambda x: rem_stopwords_count(x))\n",
    "train_input[\"output\"] = train_output[\"category\"]\n",
    "#strip out all common words (stopwords, which we import from the nltk package)\n",
    "print(time.time() - start)"
   ]
  },
  {
   "cell_type": "code",
   "execution_count": 6,
   "metadata": {
    "collapsed": false
   },
   "outputs": [
    {
     "data": {
      "text/html": [
       "<div>\n",
       "<table border=\"1\" class=\"dataframe\">\n",
       "  <thead>\n",
       "    <tr style=\"text-align: right;\">\n",
       "      <th></th>\n",
       "      <th>id</th>\n",
       "      <th>conversation</th>\n",
       "      <th>text</th>\n",
       "      <th>words</th>\n",
       "      <th>words_count</th>\n",
       "      <th>output</th>\n",
       "    </tr>\n",
       "  </thead>\n",
       "  <tbody>\n",
       "    <tr>\n",
       "      <th>0</th>\n",
       "      <td>0</td>\n",
       "      <td>&lt;speaker_1&gt; seaworld ceo steps down amid tanki...</td>\n",
       "      <td>seaworld ceo steps down amid tanking revenues...</td>\n",
       "      <td>[seaworld, ceo, steps, down, amid, tanking, re...</td>\n",
       "      <td>{'com': 1, 'good': 1, 'regarding': 1, 'propaga...</td>\n",
       "      <td>news</td>\n",
       "    </tr>\n",
       "    <tr>\n",
       "      <th>1</th>\n",
       "      <td>1</td>\n",
       "      <td>&lt;speaker_1&gt; strickland chargers owner dean spa...</td>\n",
       "      <td>strickland chargers owner dean spanos and gol...</td>\n",
       "      <td>[strickland, chargers, owner, dean, spanos, an...</td>\n",
       "      <td>{'twitter': 1, 'sachs': 2, 'strickland': 1, 't...</td>\n",
       "      <td>nfl</td>\n",
       "    </tr>\n",
       "    <tr>\n",
       "      <th>2</th>\n",
       "      <td>2</td>\n",
       "      <td>&lt;speaker_1&gt; iniesta plays keepy uppy with one ...</td>\n",
       "      <td>iniesta plays keepy uppy with one leg man  yo...</td>\n",
       "      <td>[iniesta, plays, keepy, uppy, with, one, leg, ...</td>\n",
       "      <td>{'com': 1, 'man': 1, 'almost': 1, 'walking': 1...</td>\n",
       "      <td>soccer</td>\n",
       "    </tr>\n",
       "    <tr>\n",
       "      <th>3</th>\n",
       "      <td>3</td>\n",
       "      <td>&lt;speaker_1&gt; chappie trailer #1 &lt;number&gt; hugh j...</td>\n",
       "      <td>chappie trailer   hugh jackman sci  fi comedy...</td>\n",
       "      <td>[chappie, trailer, hugh, jackman, sci, fi, com...</td>\n",
       "      <td>{'horrifically': 1, 'intentionally': 1, 'sad':...</td>\n",
       "      <td>movies</td>\n",
       "    </tr>\n",
       "    <tr>\n",
       "      <th>4</th>\n",
       "      <td>4</td>\n",
       "      <td>&lt;speaker_1&gt; why the church of satan may get to...</td>\n",
       "      <td>why the church of satan may get to open your ...</td>\n",
       "      <td>[why, the, church, of, satan, may, get, to, op...</td>\n",
       "      <td>{'deities': 1, 'america': 1, 'next': 1, 'praye...</td>\n",
       "      <td>politics</td>\n",
       "    </tr>\n",
       "  </tbody>\n",
       "</table>\n",
       "</div>"
      ],
      "text/plain": [
       "   id                                       conversation  \\\n",
       "0   0  <speaker_1> seaworld ceo steps down amid tanki...   \n",
       "1   1  <speaker_1> strickland chargers owner dean spa...   \n",
       "2   2  <speaker_1> iniesta plays keepy uppy with one ...   \n",
       "3   3  <speaker_1> chappie trailer #1 <number> hugh j...   \n",
       "4   4  <speaker_1> why the church of satan may get to...   \n",
       "\n",
       "                                                text  \\\n",
       "0   seaworld ceo steps down amid tanking revenues...   \n",
       "1   strickland chargers owner dean spanos and gol...   \n",
       "2   iniesta plays keepy uppy with one leg man  yo...   \n",
       "3   chappie trailer   hugh jackman sci  fi comedy...   \n",
       "4   why the church of satan may get to open your ...   \n",
       "\n",
       "                                               words  \\\n",
       "0  [seaworld, ceo, steps, down, amid, tanking, re...   \n",
       "1  [strickland, chargers, owner, dean, spanos, an...   \n",
       "2  [iniesta, plays, keepy, uppy, with, one, leg, ...   \n",
       "3  [chappie, trailer, hugh, jackman, sci, fi, com...   \n",
       "4  [why, the, church, of, satan, may, get, to, op...   \n",
       "\n",
       "                                         words_count    output  \n",
       "0  {'com': 1, 'good': 1, 'regarding': 1, 'propaga...      news  \n",
       "1  {'twitter': 1, 'sachs': 2, 'strickland': 1, 't...       nfl  \n",
       "2  {'com': 1, 'man': 1, 'almost': 1, 'walking': 1...    soccer  \n",
       "3  {'horrifically': 1, 'intentionally': 1, 'sad':...    movies  \n",
       "4  {'deities': 1, 'america': 1, 'next': 1, 'praye...  politics  "
      ]
     },
     "execution_count": 6,
     "metadata": {},
     "output_type": "execute_result"
    }
   ],
   "source": [
    "train_input.head()"
   ]
  },
  {
   "cell_type": "code",
   "execution_count": 7,
   "metadata": {
    "collapsed": false
   },
   "outputs": [
    {
     "data": {
      "text/plain": [
       "Counter({'amid': 1,\n",
       "         'animals': 1,\n",
       "         'announces': 1,\n",
       "         'blackfish': 1,\n",
       "         'campaign': 1,\n",
       "         'ceo': 1,\n",
       "         'changes': 1,\n",
       "         'com': 1,\n",
       "         'company': 1,\n",
       "         'couple': 1,\n",
       "         'coupled': 1,\n",
       "         'criticism': 1,\n",
       "         'documentary': 1,\n",
       "         'good': 1,\n",
       "         'killer': 1,\n",
       "         'layoffs': 1,\n",
       "         'least': 1,\n",
       "         'like': 1,\n",
       "         'little': 1,\n",
       "         'make': 1,\n",
       "         'maybe': 2,\n",
       "         'media': 1,\n",
       "         'nothing': 1,\n",
       "         'number': 1,\n",
       "         'outsideonline': 1,\n",
       "         'pathetic': 1,\n",
       "         'perception': 1,\n",
       "         'propaganda': 1,\n",
       "         'public': 2,\n",
       "         'quo': 1,\n",
       "         'regarding': 1,\n",
       "         'revenues': 1,\n",
       "         'safety': 1,\n",
       "         'saying': 1,\n",
       "         'seaworld': 2,\n",
       "         'status': 1,\n",
       "         'steps': 1,\n",
       "         'sway': 1,\n",
       "         'tanking': 1,\n",
       "         'trainers': 1,\n",
       "         'treatment': 1,\n",
       "         'underscored': 1,\n",
       "         'undisclosed': 1,\n",
       "         'upheld': 1,\n",
       "         'volley': 1,\n",
       "         'well': 1,\n",
       "         'whales': 1})"
      ]
     },
     "execution_count": 7,
     "metadata": {},
     "output_type": "execute_result"
    }
   ],
   "source": [
    "train_input[\"words_count\"][0]"
   ]
  },
  {
   "cell_type": "markdown",
   "metadata": {},
   "source": [
    "# Now, Train the Naive Bayes Model"
   ]
  },
  {
   "cell_type": "code",
   "execution_count": 8,
   "metadata": {
    "collapsed": false
   },
   "outputs": [
    {
     "data": {
      "text/plain": [
       "output\n",
       "hockey       20861\n",
       "movies       22409\n",
       "nba          18422\n",
       "news         21057\n",
       "nfl          20106\n",
       "politics     19694\n",
       "soccer       21363\n",
       "worldnews    21088\n",
       "dtype: int64"
      ]
     },
     "execution_count": 8,
     "metadata": {},
     "output_type": "execute_result"
    }
   ],
   "source": [
    "train_input.groupby(\"output\").size()\n",
    "#Size of each of the groups"
   ]
  },
  {
   "cell_type": "code",
   "execution_count": null,
   "metadata": {
    "collapsed": true
   },
   "outputs": [],
   "source": [
    "##Recursive algorithm to efficiently sum a list of counters\n",
    "def mergeSum(Counter_list):\n",
    "    if len(Counter_list) < 2:\n",
    "        return Counter_list.iloc[0]\n",
    "    \n",
    "    else: \n",
    "        mid = len(Counter_list)//2\n",
    "\n",
    "        lefthalf = mergeSum(Counter_list[:mid])\n",
    "        righthalf = mergeSum(Counter_list[mid:])\n",
    "\n",
    "        my_sum = lefthalf + righthalf\n",
    "        return my_sum"
   ]
  },
  {
   "cell_type": "code",
   "execution_count": null,
   "metadata": {
    "collapsed": false
   },
   "outputs": [],
   "source": [
    "%%time\n",
    "#Total word Counter\n",
    "Total_counter = mergeSum(train_input[\"words_count\"])"
   ]
  },
  {
   "cell_type": "code",
   "execution_count": null,
   "metadata": {
    "collapsed": false
   },
   "outputs": [],
   "source": [
    "%%time \n",
    "#Word Counter for each group\n",
    "Groups_counter = train_input.groupby(\"output\")[\"words_count\"].apply(lambda x: mergeSum(x))"
   ]
  },
  {
   "cell_type": "code",
   "execution_count": null,
   "metadata": {
    "collapsed": false
   },
   "outputs": [],
   "source": [
    "#categories\n",
    "train_input[\"output\"].unique()\n"
   ]
  },
  {
   "cell_type": "code",
   "execution_count": null,
   "metadata": {
    "collapsed": true
   },
   "outputs": [],
   "source": []
  }
 ],
 "metadata": {
  "anaconda-cloud": {},
  "kernelspec": {
   "display_name": "Python [Root]",
   "language": "python",
   "name": "Python [Root]"
  },
  "language_info": {
   "codemirror_mode": {
    "name": "ipython",
    "version": 3
   },
   "file_extension": ".py",
   "mimetype": "text/x-python",
   "name": "python",
   "nbconvert_exporter": "python",
   "pygments_lexer": "ipython3",
   "version": "3.5.2"
  }
 },
 "nbformat": 4,
 "nbformat_minor": 0
}
