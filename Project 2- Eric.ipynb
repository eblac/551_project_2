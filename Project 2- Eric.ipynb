{
 "cells": [
  {
   "cell_type": "markdown",
   "metadata": {},
   "source": [
    "TODO: \n",
    "Clean Strings\n",
    "...\n"
   ]
  },
  {
   "cell_type": "code",
   "execution_count": 1,
   "metadata": {
    "collapsed": false
   },
   "outputs": [
    {
     "name": "stdout",
     "output_type": "stream",
     "text": [
      "sys.version_info(major=3, minor=5, micro=2, releaselevel='final', serial=0)\n"
     ]
    }
   ],
   "source": [
    "import sys\n",
    "%matplotlib inline\n",
    "import matplotlib.pyplot as plt\n",
    "import numpy as np\n",
    "import pandas as pd \n",
    "import nltk\n",
    "from nltk import word_tokenize\n",
    "import time, random, re, pprint\n",
    "pd.set_option('display.max_columns', None)\n",
    "print(sys.version_info)"
   ]
  },
  {
   "cell_type": "markdown",
   "metadata": {},
   "source": [
    "## Reading Data and Cleaning"
   ]
  },
  {
   "cell_type": "code",
   "execution_count": 2,
   "metadata": {
    "collapsed": false
   },
   "outputs": [],
   "source": [
    "train_input = pd.read_csv('train_input.csv')\n",
    "train_output = pd.read_csv('train_output.csv')"
   ]
  },
  {
   "cell_type": "code",
   "execution_count": 3,
   "metadata": {
    "collapsed": false
   },
   "outputs": [
    {
     "data": {
      "text/html": [
       "<div>\n",
       "<table border=\"1\" class=\"dataframe\">\n",
       "  <thead>\n",
       "    <tr style=\"text-align: right;\">\n",
       "      <th></th>\n",
       "      <th>id</th>\n",
       "      <th>conversation</th>\n",
       "    </tr>\n",
       "  </thead>\n",
       "  <tbody>\n",
       "    <tr>\n",
       "      <th>0</th>\n",
       "      <td>0</td>\n",
       "      <td>&lt;speaker_1&gt; seaworld ceo steps down amid tanki...</td>\n",
       "    </tr>\n",
       "    <tr>\n",
       "      <th>1</th>\n",
       "      <td>1</td>\n",
       "      <td>&lt;speaker_1&gt; strickland chargers owner dean spa...</td>\n",
       "    </tr>\n",
       "    <tr>\n",
       "      <th>2</th>\n",
       "      <td>2</td>\n",
       "      <td>&lt;speaker_1&gt; iniesta plays keepy uppy with one ...</td>\n",
       "    </tr>\n",
       "    <tr>\n",
       "      <th>3</th>\n",
       "      <td>3</td>\n",
       "      <td>&lt;speaker_1&gt; chappie trailer #1 &lt;number&gt; hugh j...</td>\n",
       "    </tr>\n",
       "    <tr>\n",
       "      <th>4</th>\n",
       "      <td>4</td>\n",
       "      <td>&lt;speaker_1&gt; why the church of satan may get to...</td>\n",
       "    </tr>\n",
       "  </tbody>\n",
       "</table>\n",
       "</div>"
      ],
      "text/plain": [
       "   id                                       conversation\n",
       "0   0  <speaker_1> seaworld ceo steps down amid tanki...\n",
       "1   1  <speaker_1> strickland chargers owner dean spa...\n",
       "2   2  <speaker_1> iniesta plays keepy uppy with one ...\n",
       "3   3  <speaker_1> chappie trailer #1 <number> hugh j...\n",
       "4   4  <speaker_1> why the church of satan may get to..."
      ]
     },
     "execution_count": 3,
     "metadata": {},
     "output_type": "execute_result"
    }
   ],
   "source": [
    "train_input.head()"
   ]
  },
  {
   "cell_type": "code",
   "execution_count": 4,
   "metadata": {
    "collapsed": false
   },
   "outputs": [
    {
     "data": {
      "text/plain": [
       "(165000, 2)"
      ]
     },
     "execution_count": 4,
     "metadata": {},
     "output_type": "execute_result"
    }
   ],
   "source": [
    "train_input.shape"
   ]
  },
  {
   "cell_type": "code",
   "execution_count": 8,
   "metadata": {
    "collapsed": false
   },
   "outputs": [
    {
     "data": {
      "text/html": [
       "<div>\n",
       "<table border=\"1\" class=\"dataframe\">\n",
       "  <thead>\n",
       "    <tr style=\"text-align: right;\">\n",
       "      <th></th>\n",
       "      <th>id</th>\n",
       "      <th>category</th>\n",
       "    </tr>\n",
       "  </thead>\n",
       "  <tbody>\n",
       "    <tr>\n",
       "      <th>0</th>\n",
       "      <td>0</td>\n",
       "      <td>news</td>\n",
       "    </tr>\n",
       "    <tr>\n",
       "      <th>1</th>\n",
       "      <td>1</td>\n",
       "      <td>nfl</td>\n",
       "    </tr>\n",
       "    <tr>\n",
       "      <th>2</th>\n",
       "      <td>2</td>\n",
       "      <td>soccer</td>\n",
       "    </tr>\n",
       "    <tr>\n",
       "      <th>3</th>\n",
       "      <td>3</td>\n",
       "      <td>movies</td>\n",
       "    </tr>\n",
       "    <tr>\n",
       "      <th>4</th>\n",
       "      <td>4</td>\n",
       "      <td>politics</td>\n",
       "    </tr>\n",
       "  </tbody>\n",
       "</table>\n",
       "</div>"
      ],
      "text/plain": [
       "   id  category\n",
       "0   0      news\n",
       "1   1       nfl\n",
       "2   2    soccer\n",
       "3   3    movies\n",
       "4   4  politics"
      ]
     },
     "execution_count": 8,
     "metadata": {},
     "output_type": "execute_result"
    }
   ],
   "source": [
    "train_output.head()"
   ]
  },
  {
   "cell_type": "code",
   "execution_count": 90,
   "metadata": {
    "collapsed": false
   },
   "outputs": [],
   "source": [
    "delchars = ''.join(c for c in map(chr, range(256)) if not c.isalpha())\n",
    "delchars = ''.join(ch for ch in delchars if ch !=' ')\n",
    "def clean_text(paragraph):\n",
    "    output = re.sub('\\<.*?\\>','', paragraph) #delete tags (between <..>)\n",
    "    output = re.sub('\\@.*?\\s','', output) #delete usernames (words following @)\n",
    "    output = re.sub('\\n','', output) #delete anything following a slash\n",
    "    output = output.translate(str.maketrans('','',delchars))\n",
    "    return output"
   ]
  },
  {
   "cell_type": "code",
   "execution_count": 115,
   "metadata": {
    "collapsed": false
   },
   "outputs": [
    {
     "name": "stdout",
     "output_type": "stream",
     "text": [
      "6.332743167877197\n"
     ]
    }
   ],
   "source": [
    "start = time.time()\n",
    "text_vector = train_input[\"conversation\"].apply(lambda x: clean_text(x))\n",
    "train_input[\"text\"] = text_vector\n",
    "train_input[\"words\"] = train_input[\"text\"].apply(lambda x: x.split()) \n",
    "print(time.time() - start)"
   ]
  },
  {
   "cell_type": "code",
   "execution_count": 116,
   "metadata": {
    "collapsed": true
   },
   "outputs": [],
   "source": [
    "train_input[\"output\"] = train_output[\"category\"]"
   ]
  },
  {
   "cell_type": "code",
   "execution_count": 117,
   "metadata": {
    "collapsed": false
   },
   "outputs": [
    {
     "data": {
      "text/html": [
       "<div>\n",
       "<table border=\"1\" class=\"dataframe\">\n",
       "  <thead>\n",
       "    <tr style=\"text-align: right;\">\n",
       "      <th></th>\n",
       "      <th>id</th>\n",
       "      <th>conversation</th>\n",
       "      <th>text</th>\n",
       "      <th>words</th>\n",
       "      <th>output</th>\n",
       "    </tr>\n",
       "  </thead>\n",
       "  <tbody>\n",
       "    <tr>\n",
       "      <th>0</th>\n",
       "      <td>0</td>\n",
       "      <td>&lt;speaker_1&gt; seaworld ceo steps down amid tanki...</td>\n",
       "      <td>seaworld ceo steps down amid tanking revenues...</td>\n",
       "      <td>[seaworld, ceo, steps, down, amid, tanking, re...</td>\n",
       "      <td>news</td>\n",
       "    </tr>\n",
       "    <tr>\n",
       "      <th>1</th>\n",
       "      <td>1</td>\n",
       "      <td>&lt;speaker_1&gt; strickland chargers owner dean spa...</td>\n",
       "      <td>strickland chargers owner dean spanos and gol...</td>\n",
       "      <td>[strickland, chargers, owner, dean, spanos, an...</td>\n",
       "      <td>nfl</td>\n",
       "    </tr>\n",
       "    <tr>\n",
       "      <th>2</th>\n",
       "      <td>2</td>\n",
       "      <td>&lt;speaker_1&gt; iniesta plays keepy uppy with one ...</td>\n",
       "      <td>iniesta plays keepy uppy with one leg man  yo...</td>\n",
       "      <td>[iniesta, plays, keepy, uppy, with, one, leg, ...</td>\n",
       "      <td>soccer</td>\n",
       "    </tr>\n",
       "    <tr>\n",
       "      <th>3</th>\n",
       "      <td>3</td>\n",
       "      <td>&lt;speaker_1&gt; chappie trailer #1 &lt;number&gt; hugh j...</td>\n",
       "      <td>chappie trailer   hugh jackman sci  fi comedy...</td>\n",
       "      <td>[chappie, trailer, hugh, jackman, sci, fi, com...</td>\n",
       "      <td>movies</td>\n",
       "    </tr>\n",
       "    <tr>\n",
       "      <th>4</th>\n",
       "      <td>4</td>\n",
       "      <td>&lt;speaker_1&gt; why the church of satan may get to...</td>\n",
       "      <td>why the church of satan may get to open your ...</td>\n",
       "      <td>[why, the, church, of, satan, may, get, to, op...</td>\n",
       "      <td>politics</td>\n",
       "    </tr>\n",
       "  </tbody>\n",
       "</table>\n",
       "</div>"
      ],
      "text/plain": [
       "   id                                       conversation  \\\n",
       "0   0  <speaker_1> seaworld ceo steps down amid tanki...   \n",
       "1   1  <speaker_1> strickland chargers owner dean spa...   \n",
       "2   2  <speaker_1> iniesta plays keepy uppy with one ...   \n",
       "3   3  <speaker_1> chappie trailer #1 <number> hugh j...   \n",
       "4   4  <speaker_1> why the church of satan may get to...   \n",
       "\n",
       "                                                text  \\\n",
       "0   seaworld ceo steps down amid tanking revenues...   \n",
       "1   strickland chargers owner dean spanos and gol...   \n",
       "2   iniesta plays keepy uppy with one leg man  yo...   \n",
       "3   chappie trailer   hugh jackman sci  fi comedy...   \n",
       "4   why the church of satan may get to open your ...   \n",
       "\n",
       "                                               words    output  \n",
       "0  [seaworld, ceo, steps, down, amid, tanking, re...      news  \n",
       "1  [strickland, chargers, owner, dean, spanos, an...       nfl  \n",
       "2  [iniesta, plays, keepy, uppy, with, one, leg, ...    soccer  \n",
       "3  [chappie, trailer, hugh, jackman, sci, fi, com...    movies  \n",
       "4  [why, the, church, of, satan, may, get, to, op...  politics  "
      ]
     },
     "execution_count": 117,
     "metadata": {},
     "output_type": "execute_result"
    }
   ],
   "source": [
    "train_input.head()"
   ]
  },
  {
   "cell_type": "code",
   "execution_count": 94,
   "metadata": {
    "collapsed": false
   },
   "outputs": [
    {
     "data": {
      "text/plain": [
       "'<speaker_1> strickland chargers owner dean spanos and goldman - sachs agree to build la stadium insidestl . com </s> <speaker_2> utkevinacee twitter . com @chasingsunsets7 @utkevinacee any truth to the spanos goldman sachs deal to a build stadium in la ? no . </s> <speaker_3> right . when i look for facts i definitely look to acee s </s> </d>\\n'"
      ]
     },
     "execution_count": 94,
     "metadata": {},
     "output_type": "execute_result"
    }
   ],
   "source": [
    "train_input[\"conversation\"][1]"
   ]
  },
  {
   "cell_type": "code",
   "execution_count": 99,
   "metadata": {
    "collapsed": false
   },
   "outputs": [
    {
     "data": {
      "text/plain": [
       "' strickland chargers owner dean spanos and goldman  sachs agree to build la stadium insidestl  com   utkevinacee twitter  com any truth to the spanos goldman sachs deal to a build stadium in la  no    right  when i look for facts i definitely look to acee s  '"
      ]
     },
     "execution_count": 99,
     "metadata": {},
     "output_type": "execute_result"
    }
   ],
   "source": [
    "train_input[\"text\"][1]"
   ]
  },
  {
   "cell_type": "code",
   "execution_count": 104,
   "metadata": {
    "collapsed": false
   },
   "outputs": [
    {
     "name": "stdout",
     "output_type": "stream",
     "text": [
      "67.92844581604004\n"
     ]
    }
   ],
   "source": [
    "start = time.time()\n",
    "train_input[\"words\"] = train_input[\"text\"].apply(lambda x: word_tokenize(x)) \n",
    "print(time.time() - start)"
   ]
  },
  {
   "cell_type": "code",
   "execution_count": 105,
   "metadata": {
    "collapsed": false
   },
   "outputs": [
    {
     "data": {
      "text/html": [
       "<div>\n",
       "<table border=\"1\" class=\"dataframe\">\n",
       "  <thead>\n",
       "    <tr style=\"text-align: right;\">\n",
       "      <th></th>\n",
       "      <th>id</th>\n",
       "      <th>conversation</th>\n",
       "      <th>text</th>\n",
       "      <th>words</th>\n",
       "    </tr>\n",
       "  </thead>\n",
       "  <tbody>\n",
       "    <tr>\n",
       "      <th>0</th>\n",
       "      <td>0</td>\n",
       "      <td>&lt;speaker_1&gt; seaworld ceo steps down amid tanki...</td>\n",
       "      <td>seaworld ceo steps down amid tanking revenues...</td>\n",
       "      <td>[seaworld, ceo, steps, down, amid, tanking, re...</td>\n",
       "    </tr>\n",
       "    <tr>\n",
       "      <th>1</th>\n",
       "      <td>1</td>\n",
       "      <td>&lt;speaker_1&gt; strickland chargers owner dean spa...</td>\n",
       "      <td>strickland chargers owner dean spanos and gol...</td>\n",
       "      <td>[strickland, chargers, owner, dean, spanos, an...</td>\n",
       "    </tr>\n",
       "    <tr>\n",
       "      <th>2</th>\n",
       "      <td>2</td>\n",
       "      <td>&lt;speaker_1&gt; iniesta plays keepy uppy with one ...</td>\n",
       "      <td>iniesta plays keepy uppy with one leg man  yo...</td>\n",
       "      <td>[iniesta, plays, keepy, uppy, with, one, leg, ...</td>\n",
       "    </tr>\n",
       "    <tr>\n",
       "      <th>3</th>\n",
       "      <td>3</td>\n",
       "      <td>&lt;speaker_1&gt; chappie trailer #1 &lt;number&gt; hugh j...</td>\n",
       "      <td>chappie trailer   hugh jackman sci  fi comedy...</td>\n",
       "      <td>[chappie, trailer, hugh, jackman, sci, fi, com...</td>\n",
       "    </tr>\n",
       "    <tr>\n",
       "      <th>4</th>\n",
       "      <td>4</td>\n",
       "      <td>&lt;speaker_1&gt; why the church of satan may get to...</td>\n",
       "      <td>why the church of satan may get to open your ...</td>\n",
       "      <td>[why, the, church, of, satan, may, get, to, op...</td>\n",
       "    </tr>\n",
       "  </tbody>\n",
       "</table>\n",
       "</div>"
      ],
      "text/plain": [
       "   id                                       conversation  \\\n",
       "0   0  <speaker_1> seaworld ceo steps down amid tanki...   \n",
       "1   1  <speaker_1> strickland chargers owner dean spa...   \n",
       "2   2  <speaker_1> iniesta plays keepy uppy with one ...   \n",
       "3   3  <speaker_1> chappie trailer #1 <number> hugh j...   \n",
       "4   4  <speaker_1> why the church of satan may get to...   \n",
       "\n",
       "                                                text  \\\n",
       "0   seaworld ceo steps down amid tanking revenues...   \n",
       "1   strickland chargers owner dean spanos and gol...   \n",
       "2   iniesta plays keepy uppy with one leg man  yo...   \n",
       "3   chappie trailer   hugh jackman sci  fi comedy...   \n",
       "4   why the church of satan may get to open your ...   \n",
       "\n",
       "                                               words  \n",
       "0  [seaworld, ceo, steps, down, amid, tanking, re...  \n",
       "1  [strickland, chargers, owner, dean, spanos, an...  \n",
       "2  [iniesta, plays, keepy, uppy, with, one, leg, ...  \n",
       "3  [chappie, trailer, hugh, jackman, sci, fi, com...  \n",
       "4  [why, the, church, of, satan, may, get, to, op...  "
      ]
     },
     "execution_count": 105,
     "metadata": {},
     "output_type": "execute_result"
    }
   ],
   "source": [
    "train_input.head()"
   ]
  },
  {
   "cell_type": "code",
   "execution_count": 106,
   "metadata": {
    "collapsed": false
   },
   "outputs": [
    {
     "data": {
      "text/plain": [
       "['strickland',\n",
       " 'chargers',\n",
       " 'owner',\n",
       " 'dean',\n",
       " 'spanos',\n",
       " 'and',\n",
       " 'goldman',\n",
       " 'sachs',\n",
       " 'agree',\n",
       " 'to',\n",
       " 'build',\n",
       " 'la',\n",
       " 'stadium',\n",
       " 'insidestl',\n",
       " 'com',\n",
       " 'utkevinacee',\n",
       " 'twitter',\n",
       " 'com',\n",
       " 'any',\n",
       " 'truth',\n",
       " 'to',\n",
       " 'the',\n",
       " 'spanos',\n",
       " 'goldman',\n",
       " 'sachs',\n",
       " 'deal',\n",
       " 'to',\n",
       " 'a',\n",
       " 'build',\n",
       " 'stadium',\n",
       " 'in',\n",
       " 'la',\n",
       " 'no',\n",
       " 'right',\n",
       " 'when',\n",
       " 'i',\n",
       " 'look',\n",
       " 'for',\n",
       " 'facts',\n",
       " 'i',\n",
       " 'definitely',\n",
       " 'look',\n",
       " 'to',\n",
       " 'acee',\n",
       " 's']"
      ]
     },
     "execution_count": 106,
     "metadata": {},
     "output_type": "execute_result"
    }
   ],
   "source": [
    "train_input[\"words\"][1]"
   ]
  },
  {
   "cell_type": "code",
   "execution_count": null,
   "metadata": {
    "collapsed": true
   },
   "outputs": [],
   "source": []
  }
 ],
 "metadata": {
  "kernelspec": {
   "display_name": "Python [Root]",
   "language": "python",
   "name": "Python [Root]"
  },
  "language_info": {
   "codemirror_mode": {
    "name": "ipython",
    "version": 3
   },
   "file_extension": ".py",
   "mimetype": "text/x-python",
   "name": "python",
   "nbconvert_exporter": "python",
   "pygments_lexer": "ipython3",
   "version": "3.5.2"
  }
 },
 "nbformat": 4,
 "nbformat_minor": 0
}
