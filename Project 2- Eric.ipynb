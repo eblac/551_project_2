{
 "cells": [
  {
   "cell_type": "markdown",
   "metadata": {},
   "source": [
    "TODO: \n",
    "Clean Strings\n",
    "...\n"
   ]
  },
  {
   "cell_type": "code",
   "execution_count": 1,
   "metadata": {
    "collapsed": false
   },
   "outputs": [
    {
     "name": "stdout",
     "output_type": "stream",
     "text": [
      "sys.version_info(major=3, minor=5, micro=2, releaselevel='final', serial=0)\n"
     ]
    }
   ],
   "source": [
    "import sys\n",
    "%matplotlib inline\n",
    "import matplotlib.pyplot as plt\n",
    "import numpy as np\n",
    "import pandas as pd \n",
    "import nltk\n",
    "from nltk.corpus import stopwords\n",
    "from collections import Counter\n",
    "from nltk import word_tokenize\n",
    "import time, random, re, pprint\n",
    "pd.set_option('display.max_columns', None)\n",
    "print(sys.version_info)"
   ]
  },
  {
   "cell_type": "markdown",
   "metadata": {},
   "source": [
    "## Reading Data and Cleaning"
   ]
  },
  {
   "cell_type": "code",
   "execution_count": 119,
   "metadata": {
    "collapsed": false
   },
   "outputs": [
    {
     "name": "stdout",
     "output_type": "stream",
     "text": [
      "CPU times: user 1 s, sys: 198 ms, total: 1.2 s\n",
      "Wall time: 1.34 s\n"
     ]
    }
   ],
   "source": [
    "%%time\n",
    "start = time.time()\n",
    "train_input = pd.read_csv('train_input.csv')\n",
    "train_output = pd.read_csv('train_output.csv')"
   ]
  },
  {
   "cell_type": "code",
   "execution_count": 120,
   "metadata": {
    "collapsed": false
   },
   "outputs": [
    {
     "name": "stdout",
     "output_type": "stream",
     "text": [
      "(165000, 2)\n"
     ]
    },
    {
     "data": {
      "text/html": [
       "<div>\n",
       "<table border=\"1\" class=\"dataframe\">\n",
       "  <thead>\n",
       "    <tr style=\"text-align: right;\">\n",
       "      <th></th>\n",
       "      <th>id</th>\n",
       "      <th>conversation</th>\n",
       "    </tr>\n",
       "  </thead>\n",
       "  <tbody>\n",
       "    <tr>\n",
       "      <th>0</th>\n",
       "      <td>0</td>\n",
       "      <td>&lt;speaker_1&gt; seaworld ceo steps down amid tanki...</td>\n",
       "    </tr>\n",
       "    <tr>\n",
       "      <th>1</th>\n",
       "      <td>1</td>\n",
       "      <td>&lt;speaker_1&gt; strickland chargers owner dean spa...</td>\n",
       "    </tr>\n",
       "    <tr>\n",
       "      <th>2</th>\n",
       "      <td>2</td>\n",
       "      <td>&lt;speaker_1&gt; iniesta plays keepy uppy with one ...</td>\n",
       "    </tr>\n",
       "    <tr>\n",
       "      <th>3</th>\n",
       "      <td>3</td>\n",
       "      <td>&lt;speaker_1&gt; chappie trailer #1 &lt;number&gt; hugh j...</td>\n",
       "    </tr>\n",
       "    <tr>\n",
       "      <th>4</th>\n",
       "      <td>4</td>\n",
       "      <td>&lt;speaker_1&gt; why the church of satan may get to...</td>\n",
       "    </tr>\n",
       "  </tbody>\n",
       "</table>\n",
       "</div>"
      ],
      "text/plain": [
       "   id                                       conversation\n",
       "0   0  <speaker_1> seaworld ceo steps down amid tanki...\n",
       "1   1  <speaker_1> strickland chargers owner dean spa...\n",
       "2   2  <speaker_1> iniesta plays keepy uppy with one ...\n",
       "3   3  <speaker_1> chappie trailer #1 <number> hugh j...\n",
       "4   4  <speaker_1> why the church of satan may get to..."
      ]
     },
     "execution_count": 120,
     "metadata": {},
     "output_type": "execute_result"
    }
   ],
   "source": [
    "print(train_input.shape)\n",
    "train_input.head()"
   ]
  },
  {
   "cell_type": "code",
   "execution_count": 126,
   "metadata": {
    "collapsed": false
   },
   "outputs": [],
   "source": [
    "delchars = ''.join(c for c in map(chr, range(256)) if not c.isalpha())\n",
    "delchars = ''.join(ch for ch in delchars if ch !=' ')\n",
    "\n",
    "def clean_text(paragraph):\n",
    "    output = re.sub('\\<.*?\\>','', paragraph) #delete tags (between <..>)\n",
    "    output = re.sub('\\@.*?\\s','', output) #delete usernames (words following @)\n",
    "    output = re.sub('\\n','', output) #delete anything following a slash\n",
    "    output = output.translate(str.maketrans('','',delchars))\n",
    "    return output\n",
    "\n",
    "def rem_stopwords(word_list): \n",
    "    return list(set(word_list) - set(stopwords.words('English')))\n",
    "\n",
    "count_stops = Counter(stopwords.words(\"English\")*100)\n",
    "\n",
    "def rem_stopwords_count(words_list):\n",
    "    return Counter(words_list) - count_stops\n",
    "\n",
    "def generate_features(dataframe):\n",
    "    dataframe[\"text\"] = dataframe[\"conversation\"].apply(lambda x: clean_text(x))\n",
    "    dataframe[\"words\"] = dataframe[\"text\"].apply(lambda x: x.split()) \n",
    "    dataframe[\"words_count\"] = dataframe[\"words\"].apply(lambda x: rem_stopwords_count(x))\n",
    "    return dataframe"
   ]
  },
  {
   "cell_type": "code",
   "execution_count": 127,
   "metadata": {
    "collapsed": false
   },
   "outputs": [
    {
     "name": "stdout",
     "output_type": "stream",
     "text": [
      "CPU times: user 21.7 s, sys: 2.25 s, total: 24 s\n",
      "Wall time: 24.3 s\n"
     ]
    }
   ],
   "source": [
    "%%time\n",
    "train_input = generate_features(train_input)\n",
    "train_input[\"output\"] = train_output[\"category\"]\n",
    "#strip out all common words (stopwords, which we import from the nltk package)"
   ]
  },
  {
   "cell_type": "code",
   "execution_count": 128,
   "metadata": {
    "collapsed": false
   },
   "outputs": [
    {
     "data": {
      "text/html": [
       "<div>\n",
       "<table border=\"1\" class=\"dataframe\">\n",
       "  <thead>\n",
       "    <tr style=\"text-align: right;\">\n",
       "      <th></th>\n",
       "      <th>id</th>\n",
       "      <th>conversation</th>\n",
       "      <th>text</th>\n",
       "      <th>words</th>\n",
       "      <th>words_count</th>\n",
       "      <th>output</th>\n",
       "    </tr>\n",
       "  </thead>\n",
       "  <tbody>\n",
       "    <tr>\n",
       "      <th>0</th>\n",
       "      <td>0</td>\n",
       "      <td>&lt;speaker_1&gt; seaworld ceo steps down amid tanki...</td>\n",
       "      <td>seaworld ceo steps down amid tanking revenues...</td>\n",
       "      <td>[seaworld, ceo, steps, down, amid, tanking, re...</td>\n",
       "      <td>{'com': 1, 'good': 1, 'regarding': 1, 'propaga...</td>\n",
       "      <td>news</td>\n",
       "    </tr>\n",
       "    <tr>\n",
       "      <th>1</th>\n",
       "      <td>1</td>\n",
       "      <td>&lt;speaker_1&gt; strickland chargers owner dean spa...</td>\n",
       "      <td>strickland chargers owner dean spanos and gol...</td>\n",
       "      <td>[strickland, chargers, owner, dean, spanos, an...</td>\n",
       "      <td>{'twitter': 1, 'sachs': 2, 'strickland': 1, 't...</td>\n",
       "      <td>nfl</td>\n",
       "    </tr>\n",
       "    <tr>\n",
       "      <th>2</th>\n",
       "      <td>2</td>\n",
       "      <td>&lt;speaker_1&gt; iniesta plays keepy uppy with one ...</td>\n",
       "      <td>iniesta plays keepy uppy with one leg man  yo...</td>\n",
       "      <td>[iniesta, plays, keepy, uppy, with, one, leg, ...</td>\n",
       "      <td>{'com': 1, 'man': 1, 'almost': 1, 'walking': 1...</td>\n",
       "      <td>soccer</td>\n",
       "    </tr>\n",
       "    <tr>\n",
       "      <th>3</th>\n",
       "      <td>3</td>\n",
       "      <td>&lt;speaker_1&gt; chappie trailer #1 &lt;number&gt; hugh j...</td>\n",
       "      <td>chappie trailer   hugh jackman sci  fi comedy...</td>\n",
       "      <td>[chappie, trailer, hugh, jackman, sci, fi, com...</td>\n",
       "      <td>{'horrifically': 1, 'intentionally': 1, 'sad':...</td>\n",
       "      <td>movies</td>\n",
       "    </tr>\n",
       "    <tr>\n",
       "      <th>4</th>\n",
       "      <td>4</td>\n",
       "      <td>&lt;speaker_1&gt; why the church of satan may get to...</td>\n",
       "      <td>why the church of satan may get to open your ...</td>\n",
       "      <td>[why, the, church, of, satan, may, get, to, op...</td>\n",
       "      <td>{'deities': 1, 'america': 1, 'next': 1, 'praye...</td>\n",
       "      <td>politics</td>\n",
       "    </tr>\n",
       "  </tbody>\n",
       "</table>\n",
       "</div>"
      ],
      "text/plain": [
       "   id                                       conversation  \\\n",
       "0   0  <speaker_1> seaworld ceo steps down amid tanki...   \n",
       "1   1  <speaker_1> strickland chargers owner dean spa...   \n",
       "2   2  <speaker_1> iniesta plays keepy uppy with one ...   \n",
       "3   3  <speaker_1> chappie trailer #1 <number> hugh j...   \n",
       "4   4  <speaker_1> why the church of satan may get to...   \n",
       "\n",
       "                                                text  \\\n",
       "0   seaworld ceo steps down amid tanking revenues...   \n",
       "1   strickland chargers owner dean spanos and gol...   \n",
       "2   iniesta plays keepy uppy with one leg man  yo...   \n",
       "3   chappie trailer   hugh jackman sci  fi comedy...   \n",
       "4   why the church of satan may get to open your ...   \n",
       "\n",
       "                                               words  \\\n",
       "0  [seaworld, ceo, steps, down, amid, tanking, re...   \n",
       "1  [strickland, chargers, owner, dean, spanos, an...   \n",
       "2  [iniesta, plays, keepy, uppy, with, one, leg, ...   \n",
       "3  [chappie, trailer, hugh, jackman, sci, fi, com...   \n",
       "4  [why, the, church, of, satan, may, get, to, op...   \n",
       "\n",
       "                                         words_count    output  \n",
       "0  {'com': 1, 'good': 1, 'regarding': 1, 'propaga...      news  \n",
       "1  {'twitter': 1, 'sachs': 2, 'strickland': 1, 't...       nfl  \n",
       "2  {'com': 1, 'man': 1, 'almost': 1, 'walking': 1...    soccer  \n",
       "3  {'horrifically': 1, 'intentionally': 1, 'sad':...    movies  \n",
       "4  {'deities': 1, 'america': 1, 'next': 1, 'praye...  politics  "
      ]
     },
     "execution_count": 128,
     "metadata": {},
     "output_type": "execute_result"
    }
   ],
   "source": [
    "train_input.head()"
   ]
  },
  {
   "cell_type": "code",
   "execution_count": 7,
   "metadata": {
    "collapsed": false
   },
   "outputs": [
    {
     "data": {
      "text/plain": [
       "Counter({'amid': 1,\n",
       "         'animals': 1,\n",
       "         'announces': 1,\n",
       "         'blackfish': 1,\n",
       "         'campaign': 1,\n",
       "         'ceo': 1,\n",
       "         'changes': 1,\n",
       "         'com': 1,\n",
       "         'company': 1,\n",
       "         'couple': 1,\n",
       "         'coupled': 1,\n",
       "         'criticism': 1,\n",
       "         'documentary': 1,\n",
       "         'good': 1,\n",
       "         'killer': 1,\n",
       "         'layoffs': 1,\n",
       "         'least': 1,\n",
       "         'like': 1,\n",
       "         'little': 1,\n",
       "         'make': 1,\n",
       "         'maybe': 2,\n",
       "         'media': 1,\n",
       "         'nothing': 1,\n",
       "         'number': 1,\n",
       "         'outsideonline': 1,\n",
       "         'pathetic': 1,\n",
       "         'perception': 1,\n",
       "         'propaganda': 1,\n",
       "         'public': 2,\n",
       "         'quo': 1,\n",
       "         'regarding': 1,\n",
       "         'revenues': 1,\n",
       "         'safety': 1,\n",
       "         'saying': 1,\n",
       "         'seaworld': 2,\n",
       "         'status': 1,\n",
       "         'steps': 1,\n",
       "         'sway': 1,\n",
       "         'tanking': 1,\n",
       "         'trainers': 1,\n",
       "         'treatment': 1,\n",
       "         'underscored': 1,\n",
       "         'undisclosed': 1,\n",
       "         'upheld': 1,\n",
       "         'volley': 1,\n",
       "         'well': 1,\n",
       "         'whales': 1})"
      ]
     },
     "execution_count": 7,
     "metadata": {},
     "output_type": "execute_result"
    }
   ],
   "source": [
    "train_input[\"words_count\"][0]"
   ]
  },
  {
   "cell_type": "markdown",
   "metadata": {},
   "source": [
    "# Now, Learn the Naive Bayes Model"
   ]
  },
  {
   "cell_type": "code",
   "execution_count": 171,
   "metadata": {
    "collapsed": false
   },
   "outputs": [
    {
     "data": {
      "text/plain": [
       "output\n",
       "hockey       20861\n",
       "movies       22409\n",
       "nba          18422\n",
       "news         21057\n",
       "nfl          20106\n",
       "politics     19694\n",
       "soccer       21363\n",
       "worldnews    21088\n",
       "dtype: int64"
      ]
     },
     "execution_count": 171,
     "metadata": {},
     "output_type": "execute_result"
    }
   ],
   "source": [
    "train_input.groupby(\"output\").size()\n",
    "#Size of each of the groups"
   ]
  },
  {
   "cell_type": "code",
   "execution_count": 9,
   "metadata": {
    "collapsed": true
   },
   "outputs": [],
   "source": [
    "##Recursive algorithm to efficiently sum a list of counters\n",
    "def mergeSum(Counter_list):\n",
    "    if len(Counter_list) < 2:\n",
    "        return Counter_list.iloc[0]\n",
    "    \n",
    "    else: \n",
    "        mid = len(Counter_list)//2\n",
    "\n",
    "        lefthalf = mergeSum(Counter_list[:mid])\n",
    "        righthalf = mergeSum(Counter_list[mid:])\n",
    "\n",
    "        my_sum = lefthalf + righthalf\n",
    "        return my_sum"
   ]
  },
  {
   "cell_type": "code",
   "execution_count": 10,
   "metadata": {
    "collapsed": false
   },
   "outputs": [
    {
     "name": "stdout",
     "output_type": "stream",
     "text": [
      "CPU times: user 1min 11s, sys: 2.01 s, total: 1min 13s\n",
      "Wall time: 1min 14s\n"
     ]
    }
   ],
   "source": [
    "%%time\n",
    "#Total word Counter\n",
    "total_counter = mergeSum(train_input[\"words_count\"])"
   ]
  },
  {
   "cell_type": "code",
   "execution_count": 11,
   "metadata": {
    "collapsed": false
   },
   "outputs": [
    {
     "name": "stdout",
     "output_type": "stream",
     "text": [
      "CPU times: user 1min 11s, sys: 641 ms, total: 1min 12s\n",
      "Wall time: 1min 12s\n"
     ]
    }
   ],
   "source": [
    "%%time \n",
    "#Word Counter for each group\n",
    "groups_counter = train_input.groupby(\"output\")[\"words_count\"].apply(lambda x: mergeSum(x))"
   ]
  },
  {
   "cell_type": "code",
   "execution_count": 28,
   "metadata": {
    "collapsed": false
   },
   "outputs": [
    {
     "data": {
      "text/plain": [
       "6863865"
      ]
     },
     "execution_count": 28,
     "metadata": {},
     "output_type": "execute_result"
    }
   ],
   "source": [
    "total_wordcount = sum(total_counter.values())\n",
    "#Total number of words (not unique)\n",
    "total_wordcount"
   ]
  },
  {
   "cell_type": "code",
   "execution_count": 67,
   "metadata": {
    "collapsed": false
   },
   "outputs": [
    {
     "name": "stdout",
     "output_type": "stream",
     "text": [
      "CPU times: user 74.7 ms, sys: 16.3 ms, total: 91 ms\n",
      "Wall time: 91.2 ms\n"
     ]
    }
   ],
   "source": [
    "%%time \n",
    "total_word_freq = Counter({k:v/total_wordcount for k,v in total_counter.items()})"
   ]
  },
  {
   "cell_type": "code",
   "execution_count": 69,
   "metadata": {
    "collapsed": false
   },
   "outputs": [],
   "source": [
    "#%%time\n",
    "group_word_freq = {}\n",
    "groups_freq = groups_counter\n",
    "for label in train_input[\"output\"].unique():\n",
    "    group_wordcount = sum(groups_counter[label])\n",
    "    group_word_freq[label] = Counter({k:v/group_wordcount for k,v in groups_freq[label].items()})"
   ]
  },
  {
   "cell_type": "code",
   "execution_count": 111,
   "metadata": {
    "collapsed": false
   },
   "outputs": [
    {
     "name": "stdout",
     "output_type": "stream",
     "text": [
      "CPU times: user 5.33 s, sys: 622 ms, total: 5.95 s\n",
      "Wall time: 6.04 s\n"
     ]
    }
   ],
   "source": [
    "%%time\n",
    "def get_value_dict(my_dict,key):\n",
    "    if key in my_dict: \n",
    "        return my_dict[key]\n",
    "    else:\n",
    "        return 0\n",
    "group_word_laplace = {}\n",
    "total_words = len(total_counter)\n",
    "for label in train_input[\"output\"].unique():\n",
    "    temp_group = groups_counter[label]\n",
    "    group_wordcount = sum(groups_counter[label])\n",
    "    #Conditional probability calculation with laplace smoothing\n",
    "    group_word_laplace[label] = Counter({k:(get_value_dict(temp_group,k)+1)/(v + total_words + 1 )for k,v in total_counter.items()})"
   ]
  },
  {
   "cell_type": "markdown",
   "metadata": {},
   "source": [
    "# Predict on New Data"
   ]
  },
  {
   "cell_type": "code",
   "execution_count": 129,
   "metadata": {
    "collapsed": false
   },
   "outputs": [
    {
     "name": "stdout",
     "output_type": "stream",
     "text": [
      "53218\n"
     ]
    },
    {
     "data": {
      "text/html": [
       "<div>\n",
       "<table border=\"1\" class=\"dataframe\">\n",
       "  <thead>\n",
       "    <tr style=\"text-align: right;\">\n",
       "      <th></th>\n",
       "      <th>id</th>\n",
       "      <th>conversation</th>\n",
       "    </tr>\n",
       "  </thead>\n",
       "  <tbody>\n",
       "    <tr>\n",
       "      <th>0</th>\n",
       "      <td>0</td>\n",
       "      <td>&lt;speaker_1&gt; philadelphia is decriminalizing ma...</td>\n",
       "    </tr>\n",
       "    <tr>\n",
       "      <th>1</th>\n",
       "      <td>1</td>\n",
       "      <td>&lt;speaker_1&gt; david cameron pushes for repeal of...</td>\n",
       "    </tr>\n",
       "    <tr>\n",
       "      <th>2</th>\n",
       "      <td>2</td>\n",
       "      <td>&lt;speaker_1&gt; just a mile from gaza , a kibbutzn...</td>\n",
       "    </tr>\n",
       "    <tr>\n",
       "      <th>3</th>\n",
       "      <td>3</td>\n",
       "      <td>&lt;speaker_1&gt; chris christies greatest weakness ...</td>\n",
       "    </tr>\n",
       "    <tr>\n",
       "      <th>4</th>\n",
       "      <td>4</td>\n",
       "      <td>&lt;speaker_1&gt; lindt chocolat cafe hostage drama ...</td>\n",
       "    </tr>\n",
       "  </tbody>\n",
       "</table>\n",
       "</div>"
      ],
      "text/plain": [
       "   id                                       conversation\n",
       "0   0  <speaker_1> philadelphia is decriminalizing ma...\n",
       "1   1  <speaker_1> david cameron pushes for repeal of...\n",
       "2   2  <speaker_1> just a mile from gaza , a kibbutzn...\n",
       "3   3  <speaker_1> chris christies greatest weakness ...\n",
       "4   4  <speaker_1> lindt chocolat cafe hostage drama ..."
      ]
     },
     "execution_count": 129,
     "metadata": {},
     "output_type": "execute_result"
    }
   ],
   "source": [
    "test_input = pd.read_csv('test_input.csv')\n",
    "print(len(test_input))"
   ]
  },
  {
   "cell_type": "code",
   "execution_count": 131,
   "metadata": {
    "collapsed": false
   },
   "outputs": [
    {
     "name": "stdout",
     "output_type": "stream",
     "text": [
      "CPU times: user 6.2 s, sys: 105 ms, total: 6.31 s\n",
      "Wall time: 6.32 s\n"
     ]
    }
   ],
   "source": [
    "%%time\n",
    "test_input = generate_features(test_input)"
   ]
  },
  {
   "cell_type": "code",
   "execution_count": 134,
   "metadata": {
    "collapsed": false
   },
   "outputs": [
    {
     "data": {
      "text/html": [
       "<div>\n",
       "<table border=\"1\" class=\"dataframe\">\n",
       "  <thead>\n",
       "    <tr style=\"text-align: right;\">\n",
       "      <th></th>\n",
       "      <th>id</th>\n",
       "      <th>conversation</th>\n",
       "      <th>text</th>\n",
       "      <th>words</th>\n",
       "      <th>words_count</th>\n",
       "    </tr>\n",
       "  </thead>\n",
       "  <tbody>\n",
       "    <tr>\n",
       "      <th>0</th>\n",
       "      <td>0</td>\n",
       "      <td>&lt;speaker_1&gt; philadelphia is decriminalizing ma...</td>\n",
       "      <td>philadelphia is decriminalizing marijuana pos...</td>\n",
       "      <td>[philadelphia, is, decriminalizing, marijuana,...</td>\n",
       "      <td>{'latinos': 1, 'com': 1, 'happens': 1, 'hopes'...</td>\n",
       "    </tr>\n",
       "    <tr>\n",
       "      <th>1</th>\n",
       "      <td>1</td>\n",
       "      <td>&lt;speaker_1&gt; david cameron pushes for repeal of...</td>\n",
       "      <td>david cameron pushes for repeal of u  k  s hu...</td>\n",
       "      <td>[david, cameron, pushes, for, repeal, of, u, k...</td>\n",
       "      <td>{'com': 1, 'still': 1, 'u': 1, 'god': 1, 'none...</td>\n",
       "    </tr>\n",
       "    <tr>\n",
       "      <th>2</th>\n",
       "      <td>2</td>\n",
       "      <td>&lt;speaker_1&gt; just a mile from gaza , a kibbutzn...</td>\n",
       "      <td>just a mile from gaza  a kibbutznik cartoonis...</td>\n",
       "      <td>[just, a, mile, from, gaza, a, kibbutznik, car...</td>\n",
       "      <td>{'humanity': 1, 'hating': 1, 'gaza': 1, 'wing'...</td>\n",
       "    </tr>\n",
       "    <tr>\n",
       "      <th>3</th>\n",
       "      <td>3</td>\n",
       "      <td>&lt;speaker_1&gt; chris christies greatest weakness ...</td>\n",
       "      <td>chris christies greatest weakness  its not hi...</td>\n",
       "      <td>[chris, christies, greatest, weakness, its, no...</td>\n",
       "      <td>{'white': 1, 'com': 1, 'matter': 1, 'temper': ...</td>\n",
       "    </tr>\n",
       "    <tr>\n",
       "      <th>4</th>\n",
       "      <td>4</td>\n",
       "      <td>&lt;speaker_1&gt; lindt chocolat cafe hostage drama ...</td>\n",
       "      <td>lindt chocolat cafe hostage drama in martin p...</td>\n",
       "      <td>[lindt, chocolat, cafe, hostage, drama, in, ma...</td>\n",
       "      <td>{'martin': 1, 'drama': 1, 'com': 1, 'group': 1...</td>\n",
       "    </tr>\n",
       "  </tbody>\n",
       "</table>\n",
       "</div>"
      ],
      "text/plain": [
       "   id                                       conversation  \\\n",
       "0   0  <speaker_1> philadelphia is decriminalizing ma...   \n",
       "1   1  <speaker_1> david cameron pushes for repeal of...   \n",
       "2   2  <speaker_1> just a mile from gaza , a kibbutzn...   \n",
       "3   3  <speaker_1> chris christies greatest weakness ...   \n",
       "4   4  <speaker_1> lindt chocolat cafe hostage drama ...   \n",
       "\n",
       "                                                text  \\\n",
       "0   philadelphia is decriminalizing marijuana pos...   \n",
       "1   david cameron pushes for repeal of u  k  s hu...   \n",
       "2   just a mile from gaza  a kibbutznik cartoonis...   \n",
       "3   chris christies greatest weakness  its not hi...   \n",
       "4   lindt chocolat cafe hostage drama in martin p...   \n",
       "\n",
       "                                               words  \\\n",
       "0  [philadelphia, is, decriminalizing, marijuana,...   \n",
       "1  [david, cameron, pushes, for, repeal, of, u, k...   \n",
       "2  [just, a, mile, from, gaza, a, kibbutznik, car...   \n",
       "3  [chris, christies, greatest, weakness, its, no...   \n",
       "4  [lindt, chocolat, cafe, hostage, drama, in, ma...   \n",
       "\n",
       "                                         words_count  \n",
       "0  {'latinos': 1, 'com': 1, 'happens': 1, 'hopes'...  \n",
       "1  {'com': 1, 'still': 1, 'u': 1, 'god': 1, 'none...  \n",
       "2  {'humanity': 1, 'hating': 1, 'gaza': 1, 'wing'...  \n",
       "3  {'white': 1, 'com': 1, 'matter': 1, 'temper': ...  \n",
       "4  {'martin': 1, 'drama': 1, 'com': 1, 'group': 1...  "
      ]
     },
     "execution_count": 134,
     "metadata": {},
     "output_type": "execute_result"
    }
   ],
   "source": [
    "test_input.head()"
   ]
  },
  {
   "cell_type": "code",
   "execution_count": 138,
   "metadata": {
    "collapsed": false
   },
   "outputs": [
    {
     "data": {
      "text/plain": [
       "dict_items([('com', 1), ('still', 1), ('u', 1), ('god', 1), ('none', 1), ('harper', 1), ('pushes', 1), ('existent', 1), ('australia', 1), ('keep', 1), ('idiot', 1), ('rights', 1), ('britain', 1), ('around', 1), ('power', 1), ('repeal', 1), ('people', 1), ('gone', 1), ('human', 1), ('upi', 1), ('k', 1), ('elections', 1), ('canada', 2), ('fuck', 1), ('conservatives', 1), ('may', 1), ('voting', 1), ('act', 1), ('cameron', 1), ('till', 1), ('david', 1)])"
      ]
     },
     "execution_count": 138,
     "metadata": {},
     "output_type": "execute_result"
    }
   ],
   "source": [
    "test_input[\"words_count\"][1].items()"
   ]
  },
  {
   "cell_type": "code",
   "execution_count": 181,
   "metadata": {
    "collapsed": false
   },
   "outputs": [],
   "source": [
    "#Now, create a function to predict class for each text snippet \n",
    "\n",
    "categories = train_input[\"output\"].unique()\n",
    "\n",
    "class_priors = {}\n",
    "for category in categories:\n",
    "    class_priors[category] = train_input.groupby(\"output\").size()[category] / len(train_input)\n",
    "\n",
    "def predict_class(word_counter):\n",
    "    classes_prob = {}\n",
    "    for category in categories:\n",
    "        classes_prob[category] = 1\n",
    "        for k, v in word_counter.items():\n",
    "            classes_prob[category] *= (group_word_laplace[category][k] ** v)\n",
    "        classes_prob[category] *= class_priors[category]\n",
    "        #update with the prior class probability \n",
    "    return max(classes_prob, key = classes_prob.get)\n",
    "            "
   ]
  },
  {
   "cell_type": "code",
   "execution_count": 197,
   "metadata": {
    "collapsed": false
   },
   "outputs": [
    {
     "name": "stdout",
     "output_type": "stream",
     "text": [
      "CPU times: user 13.5 s, sys: 960 ms, total: 14.5 s\n",
      "Wall time: 14.6 s\n"
     ]
    }
   ],
   "source": [
    "%%time\n",
    "test_output_series = test_input[\"words_count\"].apply(lambda x: predict_class(x))"
   ]
  },
  {
   "cell_type": "code",
   "execution_count": 198,
   "metadata": {
    "collapsed": false
   },
   "outputs": [
    {
     "data": {
      "text/plain": [
       "0     politics\n",
       "1    worldnews\n",
       "2     politics\n",
       "3     politics\n",
       "4    worldnews\n",
       "Name: words_count, dtype: object"
      ]
     },
     "execution_count": 198,
     "metadata": {},
     "output_type": "execute_result"
    }
   ],
   "source": [
    "test_output_series.head()"
   ]
  },
  {
   "cell_type": "code",
   "execution_count": 207,
   "metadata": {
    "collapsed": false
   },
   "outputs": [],
   "source": [
    "test_output = pd.DataFrame(test_input[\"id\"])\n",
    "test_output[\"category\"] = test_output_series"
   ]
  },
  {
   "cell_type": "code",
   "execution_count": 208,
   "metadata": {
    "collapsed": false
   },
   "outputs": [
    {
     "data": {
      "text/html": [
       "<div>\n",
       "<table border=\"1\" class=\"dataframe\">\n",
       "  <thead>\n",
       "    <tr style=\"text-align: right;\">\n",
       "      <th></th>\n",
       "      <th>id</th>\n",
       "      <th>category</th>\n",
       "    </tr>\n",
       "  </thead>\n",
       "  <tbody>\n",
       "    <tr>\n",
       "      <th>0</th>\n",
       "      <td>0</td>\n",
       "      <td>politics</td>\n",
       "    </tr>\n",
       "    <tr>\n",
       "      <th>1</th>\n",
       "      <td>1</td>\n",
       "      <td>worldnews</td>\n",
       "    </tr>\n",
       "    <tr>\n",
       "      <th>2</th>\n",
       "      <td>2</td>\n",
       "      <td>politics</td>\n",
       "    </tr>\n",
       "    <tr>\n",
       "      <th>3</th>\n",
       "      <td>3</td>\n",
       "      <td>politics</td>\n",
       "    </tr>\n",
       "    <tr>\n",
       "      <th>4</th>\n",
       "      <td>4</td>\n",
       "      <td>worldnews</td>\n",
       "    </tr>\n",
       "  </tbody>\n",
       "</table>\n",
       "</div>"
      ],
      "text/plain": [
       "   id   category\n",
       "0   0   politics\n",
       "1   1  worldnews\n",
       "2   2   politics\n",
       "3   3   politics\n",
       "4   4  worldnews"
      ]
     },
     "execution_count": 208,
     "metadata": {},
     "output_type": "execute_result"
    }
   ],
   "source": [
    "test_output.head()"
   ]
  },
  {
   "cell_type": "code",
   "execution_count": 209,
   "metadata": {
    "collapsed": true
   },
   "outputs": [],
   "source": [
    "test_output.to_csv(\"naive_bayes_prediction.csv\")"
   ]
  },
  {
   "cell_type": "code",
   "execution_count": null,
   "metadata": {
    "collapsed": true
   },
   "outputs": [],
   "source": []
  }
 ],
 "metadata": {
  "anaconda-cloud": {},
  "kernelspec": {
   "display_name": "Python [Root]",
   "language": "python",
   "name": "Python [Root]"
  },
  "language_info": {
   "codemirror_mode": {
    "name": "ipython",
    "version": 3
   },
   "file_extension": ".py",
   "mimetype": "text/x-python",
   "name": "python",
   "nbconvert_exporter": "python",
   "pygments_lexer": "ipython3",
   "version": "3.5.2"
  }
 },
 "nbformat": 4,
 "nbformat_minor": 0
}
